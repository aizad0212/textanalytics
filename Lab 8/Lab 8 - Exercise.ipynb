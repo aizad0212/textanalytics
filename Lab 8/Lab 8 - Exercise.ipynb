{
 "cells": [
  {
   "cell_type": "code",
   "execution_count": 1,
   "id": "f6760f31-4494-49c3-a841-4d34b63b74da",
   "metadata": {},
   "outputs": [],
   "source": [
    "from sklearn.feature_extraction.text import TfidfVectorizer\n",
    "from gensim.models import Word2Vec\n",
    "from sklearn.cluster import KMeans\n",
    "from collections import Counter\n",
    "from tabulate import tabulate\n",
    "import numpy as np\n",
    "import pandas as pd\n",
    "import re\n",
    "from nltk.stem import PorterStemmer"
   ]
  },
  {
   "cell_type": "code",
   "execution_count": 2,
   "id": "b12d724c-09b3-4e13-ada2-a4895bb84d94",
   "metadata": {},
   "outputs": [
    {
     "data": {
      "text/html": [
       "<div>\n",
       "<style scoped>\n",
       "    .dataframe tbody tr th:only-of-type {\n",
       "        vertical-align: middle;\n",
       "    }\n",
       "\n",
       "    .dataframe tbody tr th {\n",
       "        vertical-align: top;\n",
       "    }\n",
       "\n",
       "    .dataframe thead th {\n",
       "        text-align: right;\n",
       "    }\n",
       "</style>\n",
       "<table border=\"1\" class=\"dataframe\">\n",
       "  <thead>\n",
       "    <tr style=\"text-align: right;\">\n",
       "      <th></th>\n",
       "      <th>author</th>\n",
       "      <th>posted_on</th>\n",
       "      <th>rating</th>\n",
       "      <th>text</th>\n",
       "    </tr>\n",
       "  </thead>\n",
       "  <tbody>\n",
       "    <tr>\n",
       "      <th>0</th>\n",
       "      <td>Alantae of Chesterfeild, MI</td>\n",
       "      <td>Nov. 22, 2016</td>\n",
       "      <td>1</td>\n",
       "      <td>I used to love Comcast. Until all these consta...</td>\n",
       "    </tr>\n",
       "    <tr>\n",
       "      <th>1</th>\n",
       "      <td>Vera of Philadelphia, PA</td>\n",
       "      <td>Nov. 19, 2016</td>\n",
       "      <td>1</td>\n",
       "      <td>I'm so over Comcast! The worst internet provid...</td>\n",
       "    </tr>\n",
       "    <tr>\n",
       "      <th>2</th>\n",
       "      <td>Sarah of Rancho Cordova, CA</td>\n",
       "      <td>Nov. 17, 2016</td>\n",
       "      <td>1</td>\n",
       "      <td>If I could give them a negative star or no sta...</td>\n",
       "    </tr>\n",
       "    <tr>\n",
       "      <th>3</th>\n",
       "      <td>Dennis of Manchester, NH</td>\n",
       "      <td>Nov. 16, 2016</td>\n",
       "      <td>1</td>\n",
       "      <td>I've had the worst experiences so far since in...</td>\n",
       "    </tr>\n",
       "    <tr>\n",
       "      <th>4</th>\n",
       "      <td>Ryan of Bellevue, WA</td>\n",
       "      <td>Nov. 14, 2016</td>\n",
       "      <td>1</td>\n",
       "      <td>Check your contract when you sign up for Comca...</td>\n",
       "    </tr>\n",
       "  </tbody>\n",
       "</table>\n",
       "</div>"
      ],
      "text/plain": [
       "                        author      posted_on  rating  \\\n",
       "0  Alantae of Chesterfeild, MI  Nov. 22, 2016       1   \n",
       "1     Vera of Philadelphia, PA  Nov. 19, 2016       1   \n",
       "2  Sarah of Rancho Cordova, CA  Nov. 17, 2016       1   \n",
       "3     Dennis of Manchester, NH  Nov. 16, 2016       1   \n",
       "4         Ryan of Bellevue, WA  Nov. 14, 2016       1   \n",
       "\n",
       "                                                text  \n",
       "0  I used to love Comcast. Until all these consta...  \n",
       "1  I'm so over Comcast! The worst internet provid...  \n",
       "2  If I could give them a negative star or no sta...  \n",
       "3  I've had the worst experiences so far since in...  \n",
       "4  Check your contract when you sign up for Comca...  "
      ]
     },
     "execution_count": 2,
     "metadata": {},
     "output_type": "execute_result"
    }
   ],
   "source": [
    "# Load the dataset\n",
    "file_path = 'customer_complaints_1.csv'\n",
    "df = pd.read_csv(file_path)\n",
    "\n",
    "# Display first few rows to understand the structure\n",
    "df.head()"
   ]
  },
  {
   "cell_type": "code",
   "execution_count": 3,
   "id": "74f8b1b5-dacf-45f4-ac43-3508049cbe20",
   "metadata": {},
   "outputs": [
    {
     "name": "stderr",
     "output_type": "stream",
     "text": [
      "[nltk_data] Downloading package stopwords to\n",
      "[nltk_data]     C:\\Users\\user\\AppData\\Roaming\\nltk_data...\n",
      "[nltk_data]   Package stopwords is already up-to-date!\n"
     ]
    },
    {
     "data": {
      "text/html": [
       "<div>\n",
       "<style scoped>\n",
       "    .dataframe tbody tr th:only-of-type {\n",
       "        vertical-align: middle;\n",
       "    }\n",
       "\n",
       "    .dataframe tbody tr th {\n",
       "        vertical-align: top;\n",
       "    }\n",
       "\n",
       "    .dataframe thead th {\n",
       "        text-align: right;\n",
       "    }\n",
       "</style>\n",
       "<table border=\"1\" class=\"dataframe\">\n",
       "  <thead>\n",
       "    <tr style=\"text-align: right;\">\n",
       "      <th></th>\n",
       "      <th>text</th>\n",
       "      <th>cleaned_text</th>\n",
       "    </tr>\n",
       "  </thead>\n",
       "  <tbody>\n",
       "    <tr>\n",
       "      <th>0</th>\n",
       "      <td>I used to love Comcast. Until all these consta...</td>\n",
       "      <td>use love comcast constant updat internet cabl ...</td>\n",
       "    </tr>\n",
       "    <tr>\n",
       "      <th>1</th>\n",
       "      <td>I'm so over Comcast! The worst internet provid...</td>\n",
       "      <td>im comcast worst internet provid im take onlin...</td>\n",
       "    </tr>\n",
       "    <tr>\n",
       "      <th>2</th>\n",
       "      <td>If I could give them a negative star or no sta...</td>\n",
       "      <td>could give neg star star review would never wo...</td>\n",
       "    </tr>\n",
       "    <tr>\n",
       "      <th>3</th>\n",
       "      <td>I've had the worst experiences so far since in...</td>\n",
       "      <td>ive worst experi far sinc instal noth problem ...</td>\n",
       "    </tr>\n",
       "    <tr>\n",
       "      <th>4</th>\n",
       "      <td>Check your contract when you sign up for Comca...</td>\n",
       "      <td>check contract sign comcast advertis offer mat...</td>\n",
       "    </tr>\n",
       "  </tbody>\n",
       "</table>\n",
       "</div>"
      ],
      "text/plain": [
       "                                                text  \\\n",
       "0  I used to love Comcast. Until all these consta...   \n",
       "1  I'm so over Comcast! The worst internet provid...   \n",
       "2  If I could give them a negative star or no sta...   \n",
       "3  I've had the worst experiences so far since in...   \n",
       "4  Check your contract when you sign up for Comca...   \n",
       "\n",
       "                                        cleaned_text  \n",
       "0  use love comcast constant updat internet cabl ...  \n",
       "1  im comcast worst internet provid im take onlin...  \n",
       "2  could give neg star star review would never wo...  \n",
       "3  ive worst experi far sinc instal noth problem ...  \n",
       "4  check contract sign comcast advertis offer mat...  "
      ]
     },
     "execution_count": 3,
     "metadata": {},
     "output_type": "execute_result"
    }
   ],
   "source": [
    "import nltk\n",
    "\n",
    "# Re-import necessary NLTK components\n",
    "nltk.download('stopwords')\n",
    "from nltk.corpus import stopwords\n",
    "from nltk.stem import PorterStemmer\n",
    "\n",
    "# Initialize stopwords and stemmer\n",
    "stop_words = set(stopwords.words('english'))\n",
    "ps = PorterStemmer()\n",
    "\n",
    "# Text preprocessing function\n",
    "def clean_text(text):\n",
    "    # Convert to lowercase\n",
    "    text = text.lower()\n",
    "    # Remove special characters and digits\n",
    "    text = re.sub(r'[^a-z\\s]', '', text)\n",
    "    # Remove stopwords\n",
    "    tokens = text.split()\n",
    "    tokens = [ps.stem(word) for word in tokens if word not in stop_words]\n",
    "    return ' '.join(tokens)\n",
    "\n",
    "# Apply the preprocessing to the 'text' column\n",
    "df['cleaned_text'] = df['text'].apply(clean_text)\n",
    "\n",
    "# Display the cleaned text for the first few rows\n",
    "df[['text', 'cleaned_text']].head()\n"
   ]
  },
  {
   "cell_type": "code",
   "execution_count": 4,
   "id": "ffbd9669-aca1-4284-ac01-4d0bc90b6e1c",
   "metadata": {},
   "outputs": [],
   "source": [
    "# TEXT CLUSTERING USING TF-IDF VECTORIZER"
   ]
  },
  {
   "cell_type": "code",
   "execution_count": 5,
   "id": "2edb2bd8-0879-431d-8f41-8093b6a1a0dd",
   "metadata": {},
   "outputs": [],
   "source": [
    "# Vectorize the dataset\n",
    "vectorizer = TfidfVectorizer()\n",
    "X = vectorizer.fit_transform(df['cleaned_text'])"
   ]
  },
  {
   "cell_type": "code",
   "execution_count": 6,
   "id": "2cf20891-103a-4cd9-b7f2-a7ea24ec0ee8",
   "metadata": {
    "scrolled": true
   },
   "outputs": [
    {
     "name": "stdout",
     "output_type": "stream",
     "text": [
      "Cleaned Text                                                                                                                                                                                                                                                                                                                                                                                                                                                                                                                                                                                                                                                                                                                                                                                                                                                                                                                                                                                                                                                                                                                                                                                                                                                                                                                                                                                                                                                                                                                                                                                                                                                                                                                                                                                                                                                                                                                            Predicted Cluster\n",
      "------------------------------------------------------------------------------------------------------------------------------------------------------------------------------------------------------------------------------------------------------------------------------------------------------------------------------------------------------------------------------------------------------------------------------------------------------------------------------------------------------------------------------------------------------------------------------------------------------------------------------------------------------------------------------------------------------------------------------------------------------------------------------------------------------------------------------------------------------------------------------------------------------------------------------------------------------------------------------------------------------------------------------------------------------------------------------------------------------------------------------------------------------------------------------------------------------------------------------------------------------------------------------------------------------------------------------------------------------------------------------------------------------------------------------------------------------------------------------------------------------------------------------------------------------------------------------------------------------------------------------------------------------------------------------------------------------------------------------------------------------------------------------------------------------------------------------------------------------------------------------------------------------------------------------------  -------------------\n",
      "use love comcast constant updat internet cabl crash lot night sometim day channel dont even work demand sometim dont play either wish someth min ago internet crash min reason im tire think switch wow someth pleas get xfiniti                                                                                                                                                                                                                                                                                                                                                                                                                                                                                                                                                                                                                                                                                                                                                                                                                                                                                                                                                                                                                                                                                                                                                                                                                                                                                                                                                                                                                                                                                                                                                                                                                                                                                                                        1\n",
      "im comcast worst internet provid im take onlin class multipl time late assign power interrupt area lead poor qualiti internet servic definit switch verizon id rather pay extra deal w comcast non stop internet problem                                                                                                                                                                                                                                                                                                                                                                                                                                                                                                                                                                                                                                                                                                                                                                                                                                                                                                                                                                                                                                                                                                                                                                                                                                                                                                                                                                                                                                                                                                                                                                                                                                                                                                                                0\n",
      "could give neg star star review would never work industri bad custom servic comcast matter money make well enough beyond afford servic legitim ripoff think biggest scam sinc mortgag industri major meltdown hope move somewher comcast exist disregard want help right thing honestli astound call issu bill connectionservic ad remov servic error matter transfer minimum time everyon say thing pass issu next person one resolv problemthey offer promot packag small timefram never access upgrad without wish chang bill month overcharg month sinc start blatant rude must make qualifi job type qualiti servic get review dear comcast suck sincer custom cannot wait never use servic                                                                                                                                                                                                                                                                                                                                                                                                                                                                                                                                                                                                                                                                                                                                                                                                                                                                                                                                                                                                                                                                                                                                                                                                                                                        1\n",
      "ive worst experi far sinc instal noth problem two show schedul servic appoint extrem difficulti ad box second floor difficult ad box exist account thank im start second account second floor hous separ bundl packag want add box appar possibl well guess possibl remain custom                                                                                                                                                                                                                                                                                                                                                                                                                                                                                                                                                                                                                                                                                                                                                                                                                                                                                                                                                                                                                                                                                                                                                                                                                                                                                                                                                                                                                                                                                                                                                                                                                                                                       1\n",
      "check contract sign comcast advertis offer match contract issu sign mbp internet year howev contract mbp internet year say add place boost blast pro howev isnt part contract mean comcast increas price whenev want within year mean havent receiv advertis rate comcast far refus issu correct contract issu write remain price year trust watch comcast usual illeg practic im guess catch peopl hope dont notic end pay                                                                                                                                                                                                                                                                                                                                                                                                                                                                                                                                                                                                                                                                                                                                                                                                                                                                                                                                                                                                                                                                                                                                                                                                                                                                                                                                                                                                                                                                                                                             1\n",
      "thank god chang dish gave awesom price super peopl deal actual understand say im excit final abl return equip although still havent receiv home secur yet promis time go hll comcast made miser caus miss mani hour work promis                                                                                                                                                                                                                                                                                                                                                                                                                                                                                                                                                                                                                                                                                                                                                                                                                                                                                                                                                                                                                                                                                                                                                                                                                                                                                                                                                                                                                                                                                                                                                                                                                                                                                                                         0\n",
      "long time custom xfiniti isp local walmart novemb custom repres xfiniti run promot salt lake citi area spoke repres abl get sign contract pro blast month contract earli termin fee receiv email xfiniti state chang would made account state would contract month would earli termin fee origin sign specif state contract sign contact xfiniti custom servic told sinc cannot see contract phone would need go xfiniti store person went xfiniti store novemb told would contract way around cancel upgrad went back origin plan plain simpl contract sign honor state xfiniti dishonest trustworthi therefor look chang isp soon possibl anoth compani xfiniti deserv paycheck anyon els know                                                                                                                                                                                                                                                                                                                                                                                                                                                                                                                                                                                                                                                                                                                                                                                                                                                                                                                                                                                                                                                                                                                                                                                                                                                        1\n",
      "malfunct dvr manag prevent us ad record custom servic fairli certain problem signal system protocol demand access home investig option sinc work cannot done next saturday custom servic tech agre seem illog sinc logic would dictat one would investig probabl malfunct first insist must follow protocol extrem frustrat year custom comcast predecessor investig altern                                                                                                                                                                                                                                                                                                                                                                                                                                                                                                                                                                                                                                                                                                                                                                                                                                                                                                                                                                                                                                                                                                                                                                                                                                                                                                                                                                                                                                                                                                                                                                             1\n",
      "charg overwhelm comcast servic rep ignor rude call resolv issu bill email tom rep rude none repres help pass peopl cut servic comcast                                                                                                                                                                                                                                                                                                                                                                                                                                                                                                                                                                                                                                                                                                                                                                                                                                                                                                                                                                                                                                                                                                                                                                                                                                                                                                                                                                                                                                                                                                                                                                                                                                                                                                                                                                                                                   1\n",
      "cabl dish uvers etc past eh know comcast take cake never driven take time day gripe onlin see consum stay away first terribl experi comcast took phone month come buri line lay front yard get cabl need hous final got someon special need neighbor trip fellnow month contract internet phone tv go hour time would spend hour tech come back technician reset router manual rd th time work home occasion huge inconveni hardwar faulti understand sometim get lemon month month worst compani ever crappi equip terribl custom servic wors technician hire clue comcast send technician switch equip set bonfir                                                                                                                                                                                                                                                                                                                                                                                                                                                                                                                                                                                                                                                                                                                                                                                                                                                                                                                                                                                                                                                                                                                                                                                                                                                                                                                                     0\n",
      "id tell new custom run nowher run tri turn comcast xfiniti sign contract mean fine print contract suggest read randomli chang contract say chang anyth anytim anyth wrong disagre perform pro pay speed internet month contract month month alon speed list told got letter friday say tue today im forc new contract plan im pay data speed cap terabyt seem like lot sign custom servic say that deal dont offer plan speed chang use internet pay fair custom matter fair sign use use firestick stream everyth day frustrat kept say use go unlimit plan dont got rid directv firestick pay unlimit speed chang pay data huge differ say wont know chang unless go closest got far wont charg go first month get use first went talk someon store didnt want talk told need call bill dont know help explain pay bill get equip minut guy call someon good explain letter know letter someon explain didnt want deal store guy come lie us well tell us letter got sent everyon new custom us whatev know lie leav today call comcast soon call ask call data say ye direct call someon know say read contract noth dont know anyth need bill put call somewher cant help run around last guy talk internet around im forc pay data dont even get better speed gyp also wrong got notifi friday tuesday nov st chang take effect                                                                                                                                                                                                                                                                                                                                                                                                                                                                                                                                                                                                                    1\n",
      "disappoint comcastxfin custom almost two decad pay high speed get intermitt internet call everi week almost cant take time call often get frustrat spend minut first person reset modem walk initi process even give histori told pay technician complain explain transfer specialist speed test confirm say even though test say modem work test port modem new modem replac last week issu tell line issu modem isnt perform correctli technician reprogram portsretest work awesom initi get carri dataonli retest technician minut later speed low say need send tech look line cold transfer back xfiniti without warn someon answer start process reset modem charg tech transfer specialist anoth hour wast week last week modern age month would think could work home without distract pay fastest packag mbp download mbp upload receiv random speed throughout day mbp download mbp upload often lower number wireless monitor show drop messag server refresh page lose data regularli anyon help attach sever speed test today call cst consum depend internet provid feel like use call system bullyfrustr custom submiss                                                                                                                                                                                                                                                                                                                                                                                                                                                                                                                                                                                                                                                                                                                                                                                                                 1\n",
      "peopl uneth disturb oblivi custom need internet speed tear constantli chang custom charg internet speed chang instanc blast servic first commiss state comcast mbp see increas bill month speak custom rep told mbp mbp blast month plu fact mbp ad bill servic alreadi told take give mbp without blast told would put mbp shop anoth servic end                                                                                                                                                                                                                                                                                                                                                                                                                                                                                                                                                                                                                                                                                                                                                                                                                                                                                                                                                                                                                                                                                                                                                                                                                                                                                                                                                                                                                                                                                                                                                                                                       1\n",
      "unplan unexpect day outag rude servic rep rearrang day set servic deal total inept technician call backup anoth day could go drop failur compani reli hotspot                                                                                                                                                                                                                                                                                                                                                                                                                                                                                                                                                                                                                                                                                                                                                                                                                                                                                                                                                                                                                                                                                                                                                                                                                                                                                                                                                                                                                                                                                                                                                                                                                                                                                                                                                                                           0\n",
      "warn hidden fee sign servic charg extra local news station fee local sport told see first bill custom servic peopl joke rude rude rude ask manag get snotti never let talk one know attract packag get hook joke pay long run competitor                                                                                                                                                                                                                                                                                                                                                                                                                                                                                                                                                                                                                                                                                                                                                                                                                                                                                                                                                                                                                                                                                                                                                                                                                                                                                                                                                                                                                                                                                                                                                                                                                                                                                                                1\n",
      "comcast overal terribl experi everyon els describ provid area time dealt ultim move apart area servic provid call cancel account took forev final get take hardwar back store keep receipt deal debt collector month claim owe money return hardwar luckili physic proof honestli would paid whatev wasnt sure theyd keep call would deni liabil would get kick differ debt collect agenc someon new would call month later final went away never use comcast best part id call custom servic would accident disconnect call hint want cancel servic complain choos option custom servic menu add servic theyll connect agent immedi ultim get connect right depart directli theyll probabl still disconnect time though                                                                                                                                                                                                                                                                                                                                                                                                                                                                                                                                                                                                                                                                                                                                                                                                                                                                                                                                                                                                                                                                                                                                                                                                                                1\n",
      "call infin custom servic center complain new slow perform speed first question custom servic ask fast didnt buy previou offer faster servic respond speed plan pay explain custom servic actual test less half custom servic rep said would resend signal router improv speed occur turn hotspot cell phone file complaint get screw comcastxfin internet speed pay                                                                                                                                                                                                                                                                                                                                                                                                                                                                                                                                                                                                                                                                                                                                                                                                                                                                                                                                                                                                                                                                                                                                                                                                                                                                                                                                                                                                                                                                                                                                                                                     1\n",
      "outrag take month get internet servic contact comcast st week octob internet servic lucki tech come week came inform us could instal due resid brand new wasnt type line cabl set told would call special tech schedul date week burial line next week came differ tech came said couldnt anyth caus need burial line told last guy said realli thought burial told us guy set instal modem inform us would drop line special tech burial line would soon internet run next week day neighbour appar get internet comcast well tech stole line hook internet cabl call tech came day drop line told happen ensur us ok special tech would drop anoth line come burial next week came monday tech schedul never show call comcast told us got behind someon would come tuesday tuesday morn tech came told us couldnt anyth need burial told stori call boss told us would someon come burial day well one show thursday week phone comcast almost hr morn tell us anoth tech st burial set instal sorri he tri give us option well truth option internet servic provid us servic comcast area murfreesboro tn im stuck comcast children game system phone tablet mention day school switch app kid homework internet becom need want wasnt children wouldnt get comcast anoth servic could get would definit without comcast ive servic past worst part custom servic bill tend go price without inform ive servic work time reset modem almost everyday need better job handl issu custom that spend money compani                                                                                                                                                                                                                                                                                                                                                                                                                                     1\n",
      "got xfiniti first juli first week half internet hour time everi singl day first rep sent fix said didnt feel comfort go crawl space told reschedul anoth rep come call reschedul anoth rep learn rep day put note chang splitter fix problem coupl day later anoth rep come traine ran bunch test eventu fix problem decid add tv secur packag xfiniti big mistak comcastxfin everyth work internet cabl secur work internet connect worst setup ever encount internet goe internet longer cabl secur anyway ad cabl secur packag littl month ago time least day week gone sever hour time without internet thu without secur cabl well last coupl night worst yesterday internet went sometim work morn didnt come back pm last night went sometim middl night hasnt sinc pm im still without servic pay xfiniti field tech worst ever encount tech came instal cabl secur sat phone whole time talk phone buddi suppos get dvr box didnt get one secur bozo set door put keypad next door never get use like call sentri door didnt realiz tri get door coupl day later went set alarm realiz could set alarm insid would automat set alarm yet anoth tech come day later tech fix problem process realiz lot way internet cabl secur wire code proceed fix process someth start whole unreli internet process anoth tech come day later check wire reliabl ensur cabl connect tightli insid outsid even climb power pole said found loos cabl tighten make sure even dispatch bucket truck bucket truck arriv hour later went pole check connect came back tell thing previou tech told would known go headach would settl slower speed internet paid littl bit went att reliabl million time better main two differ att work dedic fiber optic line xfinitycomcast still work ancient copper wire none att servic piggyback servic theyr separ dedic servic wherea xfiniti servic reli internet connect internet goe everyth goe                    1\n",
      "\n",
      "Top terms per cluster:\n",
      "Cluster 0:\n",
      " day\n",
      " technician\n",
      " deal\n",
      " comcast\n",
      " time\n",
      " promis\n",
      " internet\n",
      " im\n",
      " equip\n",
      " go\n",
      "\n",
      "Cluster 1:\n",
      " servic\n",
      " custom\n",
      " contract\n",
      " speed\n",
      " comcast\n",
      " mbp\n",
      " internet\n",
      " would\n",
      " call\n",
      " get\n",
      "\n"
     ]
    }
   ],
   "source": [
    "# Perform clustering\n",
    "k = 2 # Define the number of clusters\n",
    "km = KMeans(n_clusters=k)\n",
    "km.fit(X)\n",
    "\n",
    "# Predict the clusters for each document\n",
    "y_pred = km.predict(X)\n",
    "\n",
    "# Display the document and its predicted cluster in a table\n",
    "table_data = [[\"Cleaned Text\", \"Predicted Cluster\"]]\n",
    "table_data.extend([[doc, cluster] for doc, cluster in zip(df['cleaned_text'], y_pred)])\n",
    "print(tabulate(table_data, headers=\"firstrow\"))\n",
    "\n",
    "# Print top terms per cluster\n",
    "print(\"\\nTop terms per cluster:\")\n",
    "order_centroids = km.cluster_centers_.argsort()[:, ::-1]\n",
    "terms = vectorizer.get_feature_names_out()\n",
    "for i in range(k):\n",
    "    print(\"Cluster %d:\" % i)\n",
    "    for ind in order_centroids[i, :10]:\n",
    "        print(' %s' % terms[ind])\n",
    "    print()"
   ]
  },
  {
   "cell_type": "code",
   "execution_count": 7,
   "id": "5f3b2ab9-0295-418e-acfa-c5cd8fd8a031",
   "metadata": {},
   "outputs": [
    {
     "name": "stdout",
     "output_type": "stream",
     "text": [
      "Purity: 0.7894736842105263\n"
     ]
    }
   ],
   "source": [
    "#Evaluate results\n",
    "# Calculate purity\n",
    "total_samples = len(y_pred)\n",
    "cluster_label_counts = [Counter(y_pred)]\n",
    "purity = sum(max(cluster.values()) for cluster in cluster_label_counts) / total_samples\n",
    "\n",
    "print(\"Purity:\", purity)"
   ]
  },
  {
   "cell_type": "code",
   "execution_count": 8,
   "id": "9ee7cc86-51a8-4e43-a0f3-b32896125f06",
   "metadata": {},
   "outputs": [],
   "source": [
    "# TEXT CLUSTERING USING WORD2VEC VECTORIZER"
   ]
  },
  {
   "cell_type": "code",
   "execution_count": 9,
   "id": "641aa5bc-a1b9-451e-9f00-fc0f3d30b6f3",
   "metadata": {},
   "outputs": [],
   "source": [
    "# Train Word2Vec model\n",
    "tokenized_dataset = [doc.split() for doc in df['cleaned_text']]\n",
    "word2vec_model = Word2Vec(sentences=tokenized_dataset, vector_size=100, window=5, min_count=1, workers=4)"
   ]
  },
  {
   "cell_type": "code",
   "execution_count": 10,
   "id": "140e69c1-a617-42a4-b430-845f6b5886bb",
   "metadata": {},
   "outputs": [],
   "source": [
    "# Create document embeddings\n",
    "X = np.array([np.mean([word2vec_model.wv[word] for word in doc.split() if word in word2vec_model.wv], axis=0) for doc in df['cleaned_text']])"
   ]
  },
  {
   "cell_type": "code",
   "execution_count": 11,
   "id": "f2a7571a-2eea-451d-8c11-464da6f25ef9",
   "metadata": {},
   "outputs": [
    {
     "name": "stdout",
     "output_type": "stream",
     "text": [
      "Cleaned Text                                                                                                                                                                                                                                                                                                                                                                                                                                                                                                                                                                                                                                                                                                                                                                                                                                                                                                                                                                                                                                                                                                                                                                                                                                                                                                                                                                                                                                                                                                                                                                                                                                                                                                                                                                                                                                                                                                                            Predicted Cluster\n",
      "------------------------------------------------------------------------------------------------------------------------------------------------------------------------------------------------------------------------------------------------------------------------------------------------------------------------------------------------------------------------------------------------------------------------------------------------------------------------------------------------------------------------------------------------------------------------------------------------------------------------------------------------------------------------------------------------------------------------------------------------------------------------------------------------------------------------------------------------------------------------------------------------------------------------------------------------------------------------------------------------------------------------------------------------------------------------------------------------------------------------------------------------------------------------------------------------------------------------------------------------------------------------------------------------------------------------------------------------------------------------------------------------------------------------------------------------------------------------------------------------------------------------------------------------------------------------------------------------------------------------------------------------------------------------------------------------------------------------------------------------------------------------------------------------------------------------------------------------------------------------------------------------------------------------------------  -------------------\n",
      "use love comcast constant updat internet cabl crash lot night sometim day channel dont even work demand sometim dont play either wish someth min ago internet crash min reason im tire think switch wow someth pleas get xfiniti                                                                                                                                                                                                                                                                                                                                                                                                                                                                                                                                                                                                                                                                                                                                                                                                                                                                                                                                                                                                                                                                                                                                                                                                                                                                                                                                                                                                                                                                                                                                                                                                                                                                                                                        0\n",
      "im comcast worst internet provid im take onlin class multipl time late assign power interrupt area lead poor qualiti internet servic definit switch verizon id rather pay extra deal w comcast non stop internet problem                                                                                                                                                                                                                                                                                                                                                                                                                                                                                                                                                                                                                                                                                                                                                                                                                                                                                                                                                                                                                                                                                                                                                                                                                                                                                                                                                                                                                                                                                                                                                                                                                                                                                                                                0\n",
      "could give neg star star review would never work industri bad custom servic comcast matter money make well enough beyond afford servic legitim ripoff think biggest scam sinc mortgag industri major meltdown hope move somewher comcast exist disregard want help right thing honestli astound call issu bill connectionservic ad remov servic error matter transfer minimum time everyon say thing pass issu next person one resolv problemthey offer promot packag small timefram never access upgrad without wish chang bill month overcharg month sinc start blatant rude must make qualifi job type qualiti servic get review dear comcast suck sincer custom cannot wait never use servic                                                                                                                                                                                                                                                                                                                                                                                                                                                                                                                                                                                                                                                                                                                                                                                                                                                                                                                                                                                                                                                                                                                                                                                                                                                        0\n",
      "ive worst experi far sinc instal noth problem two show schedul servic appoint extrem difficulti ad box second floor difficult ad box exist account thank im start second account second floor hous separ bundl packag want add box appar possibl well guess possibl remain custom                                                                                                                                                                                                                                                                                                                                                                                                                                                                                                                                                                                                                                                                                                                                                                                                                                                                                                                                                                                                                                                                                                                                                                                                                                                                                                                                                                                                                                                                                                                                                                                                                                                                       0\n",
      "check contract sign comcast advertis offer match contract issu sign mbp internet year howev contract mbp internet year say add place boost blast pro howev isnt part contract mean comcast increas price whenev want within year mean havent receiv advertis rate comcast far refus issu correct contract issu write remain price year trust watch comcast usual illeg practic im guess catch peopl hope dont notic end pay                                                                                                                                                                                                                                                                                                                                                                                                                                                                                                                                                                                                                                                                                                                                                                                                                                                                                                                                                                                                                                                                                                                                                                                                                                                                                                                                                                                                                                                                                                                             0\n",
      "thank god chang dish gave awesom price super peopl deal actual understand say im excit final abl return equip although still havent receiv home secur yet promis time go hll comcast made miser caus miss mani hour work promis                                                                                                                                                                                                                                                                                                                                                                                                                                                                                                                                                                                                                                                                                                                                                                                                                                                                                                                                                                                                                                                                                                                                                                                                                                                                                                                                                                                                                                                                                                                                                                                                                                                                                                                         0\n",
      "long time custom xfiniti isp local walmart novemb custom repres xfiniti run promot salt lake citi area spoke repres abl get sign contract pro blast month contract earli termin fee receiv email xfiniti state chang would made account state would contract month would earli termin fee origin sign specif state contract sign contact xfiniti custom servic told sinc cannot see contract phone would need go xfiniti store person went xfiniti store novemb told would contract way around cancel upgrad went back origin plan plain simpl contract sign honor state xfiniti dishonest trustworthi therefor look chang isp soon possibl anoth compani xfiniti deserv paycheck anyon els know                                                                                                                                                                                                                                                                                                                                                                                                                                                                                                                                                                                                                                                                                                                                                                                                                                                                                                                                                                                                                                                                                                                                                                                                                                                        0\n",
      "malfunct dvr manag prevent us ad record custom servic fairli certain problem signal system protocol demand access home investig option sinc work cannot done next saturday custom servic tech agre seem illog sinc logic would dictat one would investig probabl malfunct first insist must follow protocol extrem frustrat year custom comcast predecessor investig altern                                                                                                                                                                                                                                                                                                                                                                                                                                                                                                                                                                                                                                                                                                                                                                                                                                                                                                                                                                                                                                                                                                                                                                                                                                                                                                                                                                                                                                                                                                                                                                             0\n",
      "charg overwhelm comcast servic rep ignor rude call resolv issu bill email tom rep rude none repres help pass peopl cut servic comcast                                                                                                                                                                                                                                                                                                                                                                                                                                                                                                                                                                                                                                                                                                                                                                                                                                                                                                                                                                                                                                                                                                                                                                                                                                                                                                                                                                                                                                                                                                                                                                                                                                                                                                                                                                                                                   1\n",
      "cabl dish uvers etc past eh know comcast take cake never driven take time day gripe onlin see consum stay away first terribl experi comcast took phone month come buri line lay front yard get cabl need hous final got someon special need neighbor trip fellnow month contract internet phone tv go hour time would spend hour tech come back technician reset router manual rd th time work home occasion huge inconveni hardwar faulti understand sometim get lemon month month worst compani ever crappi equip terribl custom servic wors technician hire clue comcast send technician switch equip set bonfir                                                                                                                                                                                                                                                                                                                                                                                                                                                                                                                                                                                                                                                                                                                                                                                                                                                                                                                                                                                                                                                                                                                                                                                                                                                                                                                                     0\n",
      "id tell new custom run nowher run tri turn comcast xfiniti sign contract mean fine print contract suggest read randomli chang contract say chang anyth anytim anyth wrong disagre perform pro pay speed internet month contract month month alon speed list told got letter friday say tue today im forc new contract plan im pay data speed cap terabyt seem like lot sign custom servic say that deal dont offer plan speed chang use internet pay fair custom matter fair sign use use firestick stream everyth day frustrat kept say use go unlimit plan dont got rid directv firestick pay unlimit speed chang pay data huge differ say wont know chang unless go closest got far wont charg go first month get use first went talk someon store didnt want talk told need call bill dont know help explain pay bill get equip minut guy call someon good explain letter know letter someon explain didnt want deal store guy come lie us well tell us letter got sent everyon new custom us whatev know lie leav today call comcast soon call ask call data say ye direct call someon know say read contract noth dont know anyth need bill put call somewher cant help run around last guy talk internet around im forc pay data dont even get better speed gyp also wrong got notifi friday tuesday nov st chang take effect                                                                                                                                                                                                                                                                                                                                                                                                                                                                                                                                                                                                                    0\n",
      "disappoint comcastxfin custom almost two decad pay high speed get intermitt internet call everi week almost cant take time call often get frustrat spend minut first person reset modem walk initi process even give histori told pay technician complain explain transfer specialist speed test confirm say even though test say modem work test port modem new modem replac last week issu tell line issu modem isnt perform correctli technician reprogram portsretest work awesom initi get carri dataonli retest technician minut later speed low say need send tech look line cold transfer back xfiniti without warn someon answer start process reset modem charg tech transfer specialist anoth hour wast week last week modern age month would think could work home without distract pay fastest packag mbp download mbp upload receiv random speed throughout day mbp download mbp upload often lower number wireless monitor show drop messag server refresh page lose data regularli anyon help attach sever speed test today call cst consum depend internet provid feel like use call system bullyfrustr custom submiss                                                                                                                                                                                                                                                                                                                                                                                                                                                                                                                                                                                                                                                                                                                                                                                                                 0\n",
      "peopl uneth disturb oblivi custom need internet speed tear constantli chang custom charg internet speed chang instanc blast servic first commiss state comcast mbp see increas bill month speak custom rep told mbp mbp blast month plu fact mbp ad bill servic alreadi told take give mbp without blast told would put mbp shop anoth servic end                                                                                                                                                                                                                                                                                                                                                                                                                                                                                                                                                                                                                                                                                                                                                                                                                                                                                                                                                                                                                                                                                                                                                                                                                                                                                                                                                                                                                                                                                                                                                                                                       0\n",
      "unplan unexpect day outag rude servic rep rearrang day set servic deal total inept technician call backup anoth day could go drop failur compani reli hotspot                                                                                                                                                                                                                                                                                                                                                                                                                                                                                                                                                                                                                                                                                                                                                                                                                                                                                                                                                                                                                                                                                                                                                                                                                                                                                                                                                                                                                                                                                                                                                                                                                                                                                                                                                                                           0\n",
      "warn hidden fee sign servic charg extra local news station fee local sport told see first bill custom servic peopl joke rude rude rude ask manag get snotti never let talk one know attract packag get hook joke pay long run competitor                                                                                                                                                                                                                                                                                                                                                                                                                                                                                                                                                                                                                                                                                                                                                                                                                                                                                                                                                                                                                                                                                                                                                                                                                                                                                                                                                                                                                                                                                                                                                                                                                                                                                                                0\n",
      "comcast overal terribl experi everyon els describ provid area time dealt ultim move apart area servic provid call cancel account took forev final get take hardwar back store keep receipt deal debt collector month claim owe money return hardwar luckili physic proof honestli would paid whatev wasnt sure theyd keep call would deni liabil would get kick differ debt collect agenc someon new would call month later final went away never use comcast best part id call custom servic would accident disconnect call hint want cancel servic complain choos option custom servic menu add servic theyll connect agent immedi ultim get connect right depart directli theyll probabl still disconnect time though                                                                                                                                                                                                                                                                                                                                                                                                                                                                                                                                                                                                                                                                                                                                                                                                                                                                                                                                                                                                                                                                                                                                                                                                                                0\n",
      "call infin custom servic center complain new slow perform speed first question custom servic ask fast didnt buy previou offer faster servic respond speed plan pay explain custom servic actual test less half custom servic rep said would resend signal router improv speed occur turn hotspot cell phone file complaint get screw comcastxfin internet speed pay                                                                                                                                                                                                                                                                                                                                                                                                                                                                                                                                                                                                                                                                                                                                                                                                                                                                                                                                                                                                                                                                                                                                                                                                                                                                                                                                                                                                                                                                                                                                                                                     0\n",
      "outrag take month get internet servic contact comcast st week octob internet servic lucki tech come week came inform us could instal due resid brand new wasnt type line cabl set told would call special tech schedul date week burial line next week came differ tech came said couldnt anyth caus need burial line told last guy said realli thought burial told us guy set instal modem inform us would drop line special tech burial line would soon internet run next week day neighbour appar get internet comcast well tech stole line hook internet cabl call tech came day drop line told happen ensur us ok special tech would drop anoth line come burial next week came monday tech schedul never show call comcast told us got behind someon would come tuesday tuesday morn tech came told us couldnt anyth need burial told stori call boss told us would someon come burial day well one show thursday week phone comcast almost hr morn tell us anoth tech st burial set instal sorri he tri give us option well truth option internet servic provid us servic comcast area murfreesboro tn im stuck comcast children game system phone tablet mention day school switch app kid homework internet becom need want wasnt children wouldnt get comcast anoth servic could get would definit without comcast ive servic past worst part custom servic bill tend go price without inform ive servic work time reset modem almost everyday need better job handl issu custom that spend money compani                                                                                                                                                                                                                                                                                                                                                                                                                                     0\n",
      "got xfiniti first juli first week half internet hour time everi singl day first rep sent fix said didnt feel comfort go crawl space told reschedul anoth rep come call reschedul anoth rep learn rep day put note chang splitter fix problem coupl day later anoth rep come traine ran bunch test eventu fix problem decid add tv secur packag xfiniti big mistak comcastxfin everyth work internet cabl secur work internet connect worst setup ever encount internet goe internet longer cabl secur anyway ad cabl secur packag littl month ago time least day week gone sever hour time without internet thu without secur cabl well last coupl night worst yesterday internet went sometim work morn didnt come back pm last night went sometim middl night hasnt sinc pm im still without servic pay xfiniti field tech worst ever encount tech came instal cabl secur sat phone whole time talk phone buddi suppos get dvr box didnt get one secur bozo set door put keypad next door never get use like call sentri door didnt realiz tri get door coupl day later went set alarm realiz could set alarm insid would automat set alarm yet anoth tech come day later tech fix problem process realiz lot way internet cabl secur wire code proceed fix process someth start whole unreli internet process anoth tech come day later check wire reliabl ensur cabl connect tightli insid outsid even climb power pole said found loos cabl tighten make sure even dispatch bucket truck bucket truck arriv hour later went pole check connect came back tell thing previou tech told would known go headach would settl slower speed internet paid littl bit went att reliabl million time better main two differ att work dedic fiber optic line xfinitycomcast still work ancient copper wire none att servic piggyback servic theyr separ dedic servic wherea xfiniti servic reli internet connect internet goe everyth goe                    0\n"
     ]
    },
    {
     "name": "stderr",
     "output_type": "stream",
     "text": [
      "C:\\Users\\user\\anaconda3\\Lib\\site-packages\\sklearn\\cluster\\_kmeans.py:1429: UserWarning: KMeans is known to have a memory leak on Windows with MKL, when there are less chunks than available threads. You can avoid it by setting the environment variable OMP_NUM_THREADS=1.\n",
      "  warnings.warn(\n"
     ]
    }
   ],
   "source": [
    "# Perform clustering\n",
    "k = 2 # Define the number of clusters\n",
    "km = KMeans(n_clusters=k)\n",
    "km.fit(X)\n",
    "\n",
    "# Predict the clusters for each document\n",
    "y_pred = km.predict(X)\n",
    "\n",
    "# Tabulate the document and predicted cluster\n",
    "table_data = [[\"Cleaned Text\", \"Predicted Cluster\"]]\n",
    "table_data.extend([[doc, cluster] for doc, cluster in zip(df['cleaned_text'], y_pred)])\n",
    "print(tabulate(table_data, headers=\"firstrow\"))"
   ]
  },
  {
   "cell_type": "code",
   "execution_count": 12,
   "id": "090f8cc0-36b1-445e-ad82-2560f94379fd",
   "metadata": {},
   "outputs": [
    {
     "name": "stdout",
     "output_type": "stream",
     "text": [
      "Purity: 0.9473684210526315\n"
     ]
    }
   ],
   "source": [
    "#Evaluate results\n",
    "# Calculate purity\n",
    "total_samples = len(y_pred)\n",
    "cluster_label_counts = [Counter(y_pred)]\n",
    "purity = sum(max(cluster.values()) for cluster in cluster_label_counts) / total_samples\n",
    "\n",
    "print(\"Purity:\", purity)"
   ]
  },
  {
   "cell_type": "code",
   "execution_count": null,
   "id": "18466980-cbb4-46e3-91ef-a88b27c7033f",
   "metadata": {},
   "outputs": [],
   "source": []
  }
 ],
 "metadata": {
  "kernelspec": {
   "display_name": "Python [conda env:base] *",
   "language": "python",
   "name": "conda-base-py"
  },
  "language_info": {
   "codemirror_mode": {
    "name": "ipython",
    "version": 3
   },
   "file_extension": ".py",
   "mimetype": "text/x-python",
   "name": "python",
   "nbconvert_exporter": "python",
   "pygments_lexer": "ipython3",
   "version": "3.12.7"
  }
 },
 "nbformat": 4,
 "nbformat_minor": 5
}
