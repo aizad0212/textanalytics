{
 "cells": [
  {
   "cell_type": "code",
   "execution_count": 2,
   "id": "1c6106a4-edc7-4973-a3c7-7aa97162fc26",
   "metadata": {},
   "outputs": [],
   "source": [
    "# This script combines all the datasets into one and clean the data (Null value)"
   ]
  },
  {
   "cell_type": "code",
   "execution_count": 4,
   "id": "6b8dbf12-6dd8-4886-8c2e-6fd9107f6f24",
   "metadata": {},
   "outputs": [],
   "source": [
    "import pandas as pd\n",
    "import numpy as np"
   ]
  },
  {
   "cell_type": "code",
   "execution_count": 6,
   "id": "7c842d28-59b4-4d13-bc22-36f725643c43",
   "metadata": {},
   "outputs": [],
   "source": [
    "# Load and add branch name for each DF\n",
    "McDonald_Petronas_Kota_Damansara_DT = pd.read_excel(\"Dataset/McDonald’s Petronas Kota Damansara DT.xlsx\", sheet_name=\"Recovered_Sheet1\")\n",
    "McDonald_Petronas_Kota_Damansara_DT[\"Branch\"] = \"McDonald’s Petronas Kota Damansara DT\"\n",
    "\n",
    "McDonald_The_Mines = pd.read_excel(\"Dataset/McDonald The Mines.xlsx\", sheet_name=\"Recovered_Sheet1\")\n",
    "McDonald_The_Mines[\"Branch\"] = \"McDonald The Mines\"\n",
    "\n",
    "McDonald_Shell_Taman_Desa_DT = pd.read_excel(\"Dataset/McDonald Shell Taman Desa DT.xlsx\", sheet_name=\"Recovered_Sheet1\")\n",
    "McDonald_Shell_Taman_Desa_DT[\"Branch\"] = \"McDonald Shell Taman Desa DT\"\n",
    "\n",
    "McDonald_Shell_Saujana_Utama_DT = pd.read_excel(\"Dataset/McDonald Shell Saujana Utama DT.xlsx\", sheet_name=\"Recovered_Sheet1\")\n",
    "McDonald_Shell_Saujana_Utama_DT[\"Branch\"] = \"McDonald Shell Saujana Utama DT\"\n",
    "\n",
    "McDonald_Puchong_Perdana_SF = pd.read_excel(\"Dataset/McDonald Puchong Perdana SF.xlsx\", sheet_name=\"Recovered_Sheet1\")\n",
    "McDonald_Puchong_Perdana_SF[\"Branch\"] = \"McDonald Puchong Perdana SF\"\n",
    "\n",
    "McDonald_Desa_Petaling_SF = pd.read_excel(\"Dataset/McDonald Desa Petaling SF.xlsx\", sheet_name=\"Recovered_Sheet1\")\n",
    "McDonald_Desa_Petaling_SF[\"Branch\"] = \"McDonald Desa Petaling SF\"\n",
    "\n",
    "McDonald_BHP_Jalan_Genting_Kelang_DT_Store_476 = pd.read_excel(\"Dataset/McDonald BHP Jalan Genting Kelang DT Store 476.xlsx\", sheet_name=\"Recovered_Sheet1\")\n",
    "McDonald_BHP_Jalan_Genting_Kelang_DT_Store_476[\"Branch\"] = \"McDonald BHP Jalan Genting Kelang DT Store 476\"\n",
    "\n",
    "McDonald_AEON_BiG_Bukit_Rimau_DT = pd.read_excel(\"Dataset/McDonald AEON BiG Bukit Rimau DT.xlsx\", sheet_name=\"Recovered_Sheet1\")\n",
    "McDonald_AEON_BiG_Bukit_Rimau_DT[\"Branch\"] = \"McDonald AEON BiG Bukit Rimau DT\""
   ]
  },
  {
   "cell_type": "code",
   "execution_count": 8,
   "id": "50df7555-1794-4827-aaa4-0d49e02410ae",
   "metadata": {},
   "outputs": [],
   "source": [
    "# Concatenate all DF\n",
    "df = pd.concat(\n",
    "    [\n",
    "        McDonald_Petronas_Kota_Damansara_DT,\n",
    "        McDonald_The_Mines,\n",
    "        McDonald_Shell_Taman_Desa_DT,\n",
    "        McDonald_Shell_Saujana_Utama_DT,\n",
    "        McDonald_Puchong_Perdana_SF,\n",
    "        McDonald_Desa_Petaling_SF,\n",
    "        McDonald_BHP_Jalan_Genting_Kelang_DT_Store_476,\n",
    "        McDonald_AEON_BiG_Bukit_Rimau_DT\n",
    "    ],\n",
    "    axis=0\n",
    ")\n",
    "df.columns = McDonald_Petronas_Kota_Damansara_DT.columns"
   ]
  },
  {
   "cell_type": "code",
   "execution_count": 10,
   "id": "01c4ccf5-657e-4604-be94-f28ae11d92f9",
   "metadata": {},
   "outputs": [
    {
     "data": {
      "text/html": [
       "<div>\n",
       "<style scoped>\n",
       "    .dataframe tbody tr th:only-of-type {\n",
       "        vertical-align: middle;\n",
       "    }\n",
       "\n",
       "    .dataframe tbody tr th {\n",
       "        vertical-align: top;\n",
       "    }\n",
       "\n",
       "    .dataframe thead th {\n",
       "        text-align: right;\n",
       "    }\n",
       "</style>\n",
       "<table border=\"1\" class=\"dataframe\">\n",
       "  <thead>\n",
       "    <tr style=\"text-align: right;\">\n",
       "      <th></th>\n",
       "      <th>Branch</th>\n",
       "      <th>Customer</th>\n",
       "      <th>Time</th>\n",
       "      <th>Reviews</th>\n",
       "    </tr>\n",
       "  </thead>\n",
       "  <tbody>\n",
       "    <tr>\n",
       "      <th>0</th>\n",
       "      <td>McDonald’s Petronas Kota Damansara DT</td>\n",
       "      <td>Hamd</td>\n",
       "      <td>3 weeks ago</td>\n",
       "      <td>Worst McDonalds Ive visited in my life.\\n\\nFoo...</td>\n",
       "    </tr>\n",
       "    <tr>\n",
       "      <th>1</th>\n",
       "      <td>McDonald’s Petronas Kota Damansara DT</td>\n",
       "      <td>Megan Ooi</td>\n",
       "      <td>3 months ago</td>\n",
       "      <td>worst service ever, when requested for chicken...</td>\n",
       "    </tr>\n",
       "    <tr>\n",
       "      <th>2</th>\n",
       "      <td>McDonald’s Petronas Kota Damansara DT</td>\n",
       "      <td>VincentKoh LUMCFan</td>\n",
       "      <td>5 months ago</td>\n",
       "      <td>[2022-2024]\\n\\nAlways ALWAYS a pleasant locati...</td>\n",
       "    </tr>\n",
       "    <tr>\n",
       "      <th>3</th>\n",
       "      <td>McDonald’s Petronas Kota Damansara DT</td>\n",
       "      <td>Pang Choon Fuei</td>\n",
       "      <td>4 months ago</td>\n",
       "      <td>I done the kiosk order and pay Cash.\\n\\nBut em...</td>\n",
       "    </tr>\n",
       "    <tr>\n",
       "      <th>4</th>\n",
       "      <td>McDonald’s Petronas Kota Damansara DT</td>\n",
       "      <td>nur aein</td>\n",
       "      <td>3 months ago</td>\n",
       "      <td>Please train your mc cafe staff, order ice ble...</td>\n",
       "    </tr>\n",
       "  </tbody>\n",
       "</table>\n",
       "</div>"
      ],
      "text/plain": [
       "                                  Branch            Customer          Time  \\\n",
       "0  McDonald’s Petronas Kota Damansara DT                Hamd   3 weeks ago   \n",
       "1  McDonald’s Petronas Kota Damansara DT           Megan Ooi  3 months ago   \n",
       "2  McDonald’s Petronas Kota Damansara DT  VincentKoh LUMCFan  5 months ago   \n",
       "3  McDonald’s Petronas Kota Damansara DT     Pang Choon Fuei  4 months ago   \n",
       "4  McDonald’s Petronas Kota Damansara DT            nur aein  3 months ago   \n",
       "\n",
       "                                             Reviews  \n",
       "0  Worst McDonalds Ive visited in my life.\\n\\nFoo...  \n",
       "1  worst service ever, when requested for chicken...  \n",
       "2  [2022-2024]\\n\\nAlways ALWAYS a pleasant locati...  \n",
       "3  I done the kiosk order and pay Cash.\\n\\nBut em...  \n",
       "4  Please train your mc cafe staff, order ice ble...  "
      ]
     },
     "execution_count": 10,
     "metadata": {},
     "output_type": "execute_result"
    }
   ],
   "source": [
    "# Keep only the specified columns and rename them\n",
    "df_cleaned = df[['Branch', 'd4r55', 'rsqaWe', 'wiI7pd']].copy()\n",
    "df_cleaned.columns = ['Branch', 'Customer', 'Time', 'Reviews']\n",
    "\n",
    "# Drop rows where all values are NaN\n",
    "df_cleaned.dropna(how='all', inplace=True)\n",
    "\n",
    "# Show the cleaned dataset\n",
    "df_cleaned.head()"
   ]
  },
  {
   "cell_type": "code",
   "execution_count": 12,
   "id": "b49fd4d1-711a-4948-9358-cf5dbbd41df9",
   "metadata": {},
   "outputs": [],
   "source": [
    "# Replace missing values with specified defaults\n",
    "df_cleaned['Customer'] = df_cleaned['Customer'].fillna('Unknown')\n",
    "df_cleaned['Time'] = df_cleaned['Time'].fillna('Unknown')\n",
    "df_cleaned['Reviews'] = df_cleaned['Reviews'].fillna('No Review')\n",
    "df_cleaned['Branch'] = df_cleaned['Branch'].fillna('Unknown')"
   ]
  },
  {
   "cell_type": "code",
   "execution_count": 14,
   "id": "ddf52a8c-c7de-4d8f-ae84-b72c170fa321",
   "metadata": {},
   "outputs": [],
   "source": [
    "# Save the cleaned DataFrame to an Excel file\n",
    "df_cleaned.to_excel(\"Dataset/McDonalds_Reviews_Details.xlsx\", index=False)"
   ]
  },
  {
   "cell_type": "code",
   "execution_count": null,
   "id": "8eccda34-364f-4dfb-a049-fcbe8456ed5c",
   "metadata": {},
   "outputs": [],
   "source": []
  }
 ],
 "metadata": {
  "kernelspec": {
   "display_name": "Python [conda env:base] *",
   "language": "python",
   "name": "conda-base-py"
  },
  "language_info": {
   "codemirror_mode": {
    "name": "ipython",
    "version": 3
   },
   "file_extension": ".py",
   "mimetype": "text/x-python",
   "name": "python",
   "nbconvert_exporter": "python",
   "pygments_lexer": "ipython3",
   "version": "3.12.7"
  }
 },
 "nbformat": 4,
 "nbformat_minor": 5
}
