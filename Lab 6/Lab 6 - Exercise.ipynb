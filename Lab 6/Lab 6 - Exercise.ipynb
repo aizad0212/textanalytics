{
 "cells": [
  {
   "cell_type": "code",
   "execution_count": 1,
   "id": "6fd6dc7f-177f-42a7-8534-66143bc6c41a",
   "metadata": {},
   "outputs": [],
   "source": [
    "# 1. Load a Dataset"
   ]
  },
  {
   "cell_type": "code",
   "execution_count": 3,
   "id": "bcd254ed-a0f5-417d-b824-0ed8f540e203",
   "metadata": {},
   "outputs": [],
   "source": [
    "# Perform imports and load the dataset: \n",
    "import pandas as pd"
   ]
  },
  {
   "cell_type": "code",
   "execution_count": 5,
   "id": "d0b09f5d-f84e-4436-82eb-d23f4117ea72",
   "metadata": {},
   "outputs": [
    {
     "data": {
      "text/plain": [
       "(13, 3)"
      ]
     },
     "execution_count": 5,
     "metadata": {},
     "output_type": "execute_result"
    }
   ],
   "source": [
    "df = pd.read_csv(\"Processed_Reviews.csv\",encoding=\"ISO-8859-1\", usecols=['lemmatized', 'tokenized', 'label'])\n",
    "df.shape"
   ]
  },
  {
   "cell_type": "code",
   "execution_count": 7,
   "id": "b616d98d-02f0-4dd4-8d96-c3a266834afd",
   "metadata": {},
   "outputs": [
    {
     "data": {
      "text/html": [
       "<div>\n",
       "<style scoped>\n",
       "    .dataframe tbody tr th:only-of-type {\n",
       "        vertical-align: middle;\n",
       "    }\n",
       "\n",
       "    .dataframe tbody tr th {\n",
       "        vertical-align: top;\n",
       "    }\n",
       "\n",
       "    .dataframe thead th {\n",
       "        text-align: right;\n",
       "    }\n",
       "</style>\n",
       "<table border=\"1\" class=\"dataframe\">\n",
       "  <thead>\n",
       "    <tr style=\"text-align: right;\">\n",
       "      <th></th>\n",
       "      <th>lemmatized</th>\n",
       "      <th>tokenized</th>\n",
       "      <th>label</th>\n",
       "    </tr>\n",
       "  </thead>\n",
       "  <tbody>\n",
       "    <tr>\n",
       "      <th>0</th>\n",
       "      <td>product arrive time packaging great quality am...</td>\n",
       "      <td>['product', 'arrive', 'time', 'packaging', 'gr...</td>\n",
       "      <td>1</td>\n",
       "    </tr>\n",
       "    <tr>\n",
       "      <th>1</th>\n",
       "      <td>product amaze love</td>\n",
       "      <td>['product', 'amaze', 'love']</td>\n",
       "      <td>1</td>\n",
       "    </tr>\n",
       "    <tr>\n",
       "      <th>2</th>\n",
       "      <td>buy phone hz display totally worth</td>\n",
       "      <td>['buy', 'phone', 'hz', 'display', 'totally', '...</td>\n",
       "      <td>1</td>\n",
       "    </tr>\n",
       "    <tr>\n",
       "      <th>3</th>\n",
       "      <td>wow product awesome bit expensive</td>\n",
       "      <td>['wow', 'product', 'awesome', 'bit', 'expensive']</td>\n",
       "      <td>1</td>\n",
       "    </tr>\n",
       "    <tr>\n",
       "      <th>4</th>\n",
       "      <td>laptop work perfectly fine</td>\n",
       "      <td>['laptop', 'work', 'perfectly', 'fine']</td>\n",
       "      <td>1</td>\n",
       "    </tr>\n",
       "  </tbody>\n",
       "</table>\n",
       "</div>"
      ],
      "text/plain": [
       "                                          lemmatized  \\\n",
       "0  product arrive time packaging great quality am...   \n",
       "1                                 product amaze love   \n",
       "2                 buy phone hz display totally worth   \n",
       "3                  wow product awesome bit expensive   \n",
       "4                         laptop work perfectly fine   \n",
       "\n",
       "                                           tokenized  label  \n",
       "0  ['product', 'arrive', 'time', 'packaging', 'gr...      1  \n",
       "1                       ['product', 'amaze', 'love']      1  \n",
       "2  ['buy', 'phone', 'hz', 'display', 'totally', '...      1  \n",
       "3  ['wow', 'product', 'awesome', 'bit', 'expensive']      1  \n",
       "4            ['laptop', 'work', 'perfectly', 'fine']      1  "
      ]
     },
     "execution_count": 7,
     "metadata": {},
     "output_type": "execute_result"
    }
   ],
   "source": [
    "df.head()"
   ]
  },
  {
   "cell_type": "code",
   "execution_count": 9,
   "id": "2137d4ef-9fe3-459a-947f-3a22239a5c69",
   "metadata": {},
   "outputs": [
    {
     "name": "stdout",
     "output_type": "stream",
     "text": [
      "<class 'pandas.core.frame.DataFrame'>\n",
      "RangeIndex: 13 entries, 0 to 12\n",
      "Data columns (total 3 columns):\n",
      " #   Column      Non-Null Count  Dtype \n",
      "---  ------      --------------  ----- \n",
      " 0   lemmatized  13 non-null     object\n",
      " 1   tokenized   13 non-null     object\n",
      " 2   label       13 non-null     int64 \n",
      "dtypes: int64(1), object(2)\n",
      "memory usage: 444.0+ bytes\n"
     ]
    }
   ],
   "source": [
    "df.info()"
   ]
  },
  {
   "cell_type": "code",
   "execution_count": 11,
   "id": "f9d3bc6e-d6ab-4d0f-ba7b-afad43223f1f",
   "metadata": {},
   "outputs": [
    {
     "data": {
      "text/plain": [
       "lemmatized    0\n",
       "tokenized     0\n",
       "label         0\n",
       "dtype: int64"
      ]
     },
     "execution_count": 11,
     "metadata": {},
     "output_type": "execute_result"
    }
   ],
   "source": [
    "# Checking for null values \n",
    "df.isnull().sum()"
   ]
  },
  {
   "cell_type": "code",
   "execution_count": 13,
   "id": "4b25152f-cf0c-4b5e-9587-cd0c1b9fa821",
   "metadata": {},
   "outputs": [
    {
     "data": {
      "text/plain": [
       "0"
      ]
     },
     "execution_count": 13,
     "metadata": {},
     "output_type": "execute_result"
    }
   ],
   "source": [
    "# Checking Duplicate values \n",
    "df.duplicated().sum()"
   ]
  },
  {
   "cell_type": "code",
   "execution_count": 15,
   "id": "4161067a-56b6-489a-a1a2-837885cb2304",
   "metadata": {},
   "outputs": [],
   "source": [
    "# 2. Vectorization"
   ]
  },
  {
   "cell_type": "code",
   "execution_count": 17,
   "id": "a15eda53-a0af-4e24-ae1f-82d912909e63",
   "metadata": {},
   "outputs": [],
   "source": [
    "from sklearn.feature_extraction.text import TfidfVectorizer \n",
    "tfidf_vect = TfidfVectorizer() \n",
    "\n",
    "\n",
    "X = tfidf_vect.fit_transform(df['lemmatized']) \n",
    "y = df['label']"
   ]
  },
  {
   "cell_type": "code",
   "execution_count": 19,
   "id": "f0e9977d-a992-4676-8e39-a13f44ef121b",
   "metadata": {},
   "outputs": [],
   "source": [
    "# 3. Modeling"
   ]
  },
  {
   "cell_type": "code",
   "execution_count": 21,
   "id": "3999e1e1-231f-47a3-90fe-87f5c6000f5c",
   "metadata": {},
   "outputs": [],
   "source": [
    "from sklearn.naive_bayes import MultinomialNB \n",
    "from sklearn.svm import SVC \n",
    "from sklearn.model_selection import train_test_split"
   ]
  },
  {
   "cell_type": "code",
   "execution_count": 23,
   "id": "7518af00-562a-4f3d-87c2-e4aefc2890a5",
   "metadata": {},
   "outputs": [],
   "source": [
    "# Split data into train & test sets \n",
    "X_train, X_test, y_train, y_test = train_test_split(X, y, random_state=42)"
   ]
  },
  {
   "cell_type": "code",
   "execution_count": 25,
   "id": "8e3c2d4a-d0d5-4987-a7da-f9e6aa42e9d3",
   "metadata": {},
   "outputs": [],
   "source": [
    "# Naive Bayes \n",
    "nb_clf = MultinomialNB().fit(X_train, y_train)"
   ]
  },
  {
   "cell_type": "code",
   "execution_count": 27,
   "id": "8fd86a29-1335-4e7f-b69b-0bd0473fb829",
   "metadata": {},
   "outputs": [],
   "source": [
    "# 4. Performance Evaluation"
   ]
  },
  {
   "cell_type": "code",
   "execution_count": 29,
   "id": "3599a7e9-c3c8-4190-ad17-f261814a2357",
   "metadata": {},
   "outputs": [],
   "source": [
    "# Performance metrics comparison\n",
    "from sklearn.metrics import classification_report, confusion_matrix \n",
    "from sklearn.metrics import accuracy_score # Importing accuracy_score \n",
    "\n",
    "# Naive Bayes \n",
    "nb_predicted = nb_clf.predict(X_test) \n",
    "nb_report = classification_report(y_test, nb_predicted, zero_division=0) \n",
    "\n",
    "# Calculate error rate for Naive Bayes \n",
    "nb_error_rate = 1 - accuracy_score(y_test, nb_predicted) \n",
    "nb_cm = confusion_matrix(y_test, nb_predicted)\n"
   ]
  },
  {
   "cell_type": "code",
   "execution_count": 31,
   "id": "73613baf-0fe2-4bc1-b855-97db0b1af579",
   "metadata": {},
   "outputs": [
    {
     "data": {
      "text/plain": [
       "array([[0, 1],\n",
       "       [0, 3]], dtype=int64)"
      ]
     },
     "execution_count": 31,
     "metadata": {},
     "output_type": "execute_result"
    }
   ],
   "source": [
    "nb_cm"
   ]
  },
  {
   "cell_type": "code",
   "execution_count": 33,
   "id": "7e7d18c3-deb9-4d37-ade9-c1ed21852845",
   "metadata": {},
   "outputs": [
    {
     "data": {
      "image/png": "[encoded data removed]",
      "text/plain": [
       "<Figure size 800x600 with 2 Axes>"
      ]
     },
     "metadata": {},
     "output_type": "display_data"
    },
    {
     "name": "stdout",
     "output_type": "stream",
     "text": [
      "Naive Bayes Classifier Report:\n",
      "              precision    recall  f1-score   support\n",
      "\n",
      "           0       0.00      0.00      0.00         1\n",
      "           1       0.75      1.00      0.86         3\n",
      "\n",
      "    accuracy                           0.75         4\n",
      "   macro avg       0.38      0.50      0.43         4\n",
      "weighted avg       0.56      0.75      0.64         4\n",
      "\n",
      "\n",
      "Naive Bayes Error Rate: 0.25\n"
     ]
    }
   ],
   "source": [
    "import matplotlib.pyplot as plt \n",
    "import seaborn as sns \n",
    "\n",
    "# Function to plot confusion matrix \n",
    "def plot_confusion_matrix(cm, classes, title='Confusion matrix', cmap=plt.cm.Blues): \n",
    "    plt.figure(figsize=(8, 6)) \n",
    "    sns.heatmap(cm, annot=True, fmt='d', cmap=cmap, xticklabels=classes, yticklabels=classes) \n",
    "    plt.title(title) \n",
    "    plt.xlabel('Predicted label') \n",
    "    plt.ylabel('True label') \n",
    "    plt.show() \n",
    "\n",
    "# Plot confusion matrix for Naive Bayes \n",
    "plot_confusion_matrix(nb_cm, classes=['negative', 'positive'], title='Naive Bayes Confusion Matrix')\n",
    "\n",
    "print(\"Naive Bayes Classifier Report:\") \n",
    "print(nb_report) \n",
    "print(f\"\\nNaive Bayes Error Rate: {nb_error_rate:.2f}\") "
   ]
  },
  {
   "cell_type": "code",
   "execution_count": null,
   "id": "bdefb95e-31bd-4924-8064-8f9e9f30ecb4",
   "metadata": {},
   "outputs": [],
   "source": []
  }
 ],
 "metadata": {
  "kernelspec": {
   "display_name": "Python [conda env:base] *",
   "language": "python",
   "name": "conda-base-py"
  },
  "language_info": {
   "codemirror_mode": {
    "name": "ipython",
    "version": 3
   },
   "file_extension": ".py",
   "mimetype": "text/x-python",
   "name": "python",
   "nbconvert_exporter": "python",
   "pygments_lexer": "ipython3",
   "version": "3.12.7"
  }
 },
 "nbformat": 4,
 "nbformat_minor": 5
}
